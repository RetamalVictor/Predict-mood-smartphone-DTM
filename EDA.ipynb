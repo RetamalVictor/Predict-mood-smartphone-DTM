{
 "cells": [
  {
   "cell_type": "code",
   "execution_count": null,
   "metadata": {},
   "outputs": [],
   "source": [
    "import pandas as pd\n",
    "import seaborn as sns\n",
    "import numpy as np\n",
    "import matplotlib.pyplot as plt\n",
    "import plotly.express as px\n",
    "from tqdm import tqdm\n",
    "\n",
    "\n",
    "pd.set_option('max_columns', None)\n",
    "\n",
    "pd.set_option('max_rows', None)"
   ]
  },
  {
   "cell_type": "code",
   "execution_count": null,
   "metadata": {},
   "outputs": [],
   "source": [
    "#Load the data\n",
    "#Separate time into date and time\n",
    "df = pd.read_csv('/content/dataset_mood_smartphone.csv', engine= 'python')\n",
    "df = df.drop('Unnamed: 0',axis=1)\n",
    "df['Date'] = pd.to_datetime(df['time']).dt.date\n",
    "df['Time'] = pd.to_datetime(df['time']).dt.time"
   ]
  },
  {
   "cell_type": "code",
   "execution_count": null,
   "metadata": {},
   "outputs": [],
   "source": [
    "#Number of observations\n",
    "len(df)"
   ]
  },
  {
   "cell_type": "code",
   "execution_count": null,
   "metadata": {},
   "outputs": [],
   "source": [
    "#check max and min dates\n",
    "print(df['Date'].max())\n",
    "print(df['Date'].min())"
   ]
  },
  {
   "cell_type": "code",
   "execution_count": null,
   "metadata": {},
   "outputs": [],
   "source": [
    "# aggregate by id and date\n",
    "res = df.pivot_table(index=[ 'id','Date'], columns='variable',\n",
    "                     values='value').reset_index()"
   ]
  },
  {
   "cell_type": "code",
   "execution_count": null,
   "metadata": {},
   "outputs": [],
   "source": [
    "#check for nas\n",
    "res.isna().sum()"
   ]
  },
  {
   "cell_type": "code",
   "execution_count": null,
   "metadata": {},
   "outputs": [],
   "source": [
    "#replace NAs using KNN\n",
    "from sklearn.impute import KNNImputer\n",
    "knn_imputer = KNNImputer(n_neighbors=10)\n",
    "res[['activity', 'appCat.builtin', 'appCat.communication',\n",
    "       'appCat.entertainment', 'appCat.finance', 'appCat.game',\n",
    "       'appCat.office', 'appCat.other', 'appCat.social', 'appCat.travel',\n",
    "       'appCat.unknown', 'appCat.utilities', 'appCat.weather', 'call',\n",
    "       'circumplex.arousal', 'circumplex.valence', 'screen', 'sms']] = knn_imputer.fit_transform(res[['activity', 'appCat.builtin', 'appCat.communication','appCat.entertainment', 'appCat.finance', 'appCat.game',\n",
    "                                                                                                              'appCat.office', 'appCat.other', 'appCat.social', 'appCat.travel',\n",
    "                                                                                                              'appCat.unknown', 'appCat.utilities', 'appCat.weather', 'call',\n",
    "                                                                                                              'circumplex.arousal', 'circumplex.valence', 'screen', 'sms']] )\n",
    "       \n",
    "res = res.dropna()"
   ]
  },
  {
   "cell_type": "code",
   "execution_count": null,
   "metadata": {},
   "outputs": [],
   "source": [
    "#check data dimension\n",
    "res.shape"
   ]
  },
  {
   "cell_type": "code",
   "execution_count": null,
   "metadata": {},
   "outputs": [],
   "source": [
    "#View the data\n",
    "res.head(5)"
   ]
  },
  {
   "cell_type": "code",
   "execution_count": null,
   "metadata": {},
   "outputs": [],
   "source": [
    "#Check number of observations per id\n",
    "res['id'].value_counts().nlargest(33)"
   ]
  },
  {
   "cell_type": "markdown",
   "metadata": {},
   "source": [
    "# DATA EXPLORATION\n",
    "\n",
    "Do exploration for the id with the largest number of observations\n"
   ]
  },
  {
   "cell_type": "code",
   "execution_count": null,
   "metadata": {},
   "outputs": [],
   "source": [
    "# timeseries plot of all features and the label - mood\n",
    "res_plot = res[res['id']== 'AS14.26']\n",
    "res_plot = res_plot.drop(['id'], axis=1)\n",
    "res_plot = res_plot.set_index('Date')\n",
    "\n",
    "numeric_features=[x for x in res_plot.columns if res[x].dtype!=\"object\"]\n",
    "#taking only the numeric columns from the dataframe.\n",
    "\n",
    "for i in res[numeric_features].columns:\n",
    "    plt.figure(figsize=(20,5))\n",
    "    plt.title(i)\n",
    "    sns.lineplot(data=res_plot[i])"
   ]
  },
  {
   "cell_type": "code",
   "execution_count": null,
   "metadata": {},
   "outputs": [],
   "source": [
    "#plot moods and compare with its moving average\n",
    "for i in res['id'].unique():\n",
    "    res_ma = res[res['id'] == i]\n",
    "    res_ma['moving_average'] = res_ma['mood'].rolling(7).mean()\n",
    "    fig = px.line(res_ma, x=\"Date\", y=[\"mood\",\"moving_average\"], title = i, template = 'plotly_dark')\n",
    "    fig.show()"
   ]
  },
  {
   "cell_type": "code",
   "execution_count": null,
   "metadata": {},
   "outputs": [],
   "source": [
    "# do stationarity test on the id with the largest data\n",
    "from pandas import read_csv\n",
    "from statsmodels.tsa.stattools import adfuller\n",
    "\n",
    "data_adf = res[res['id']== 'AS14.26']\n",
    "data_adf = data_adf['mood'].values\n",
    "result = adfuller(data_adf)\n",
    "\n",
    "print('ADF Statistic: %f' % result[0])\n",
    "print('p-value: %f' % result[1])\n",
    "print('Critical Values:')\n",
    "for key, value in result[4].items():\n",
    "\tprint('\\t%s: %.3f' % (key, value))"
   ]
  },
  {
   "cell_type": "code",
   "execution_count": null,
   "metadata": {},
   "outputs": [],
   "source": [
    "# Using log transformed data\n",
    "from numpy import log\n",
    "data_adf = res[res['id']== 'AS14.26']\n",
    "data_adf = data_adf['mood'].values\n",
    "data_adf = log(data_adf)\n",
    "result = adfuller(data_adf)\n",
    "\n",
    "print('ADF Statistic: %f' % result[0])\n",
    "print('p-value: %f' % result[1])\n",
    "print('Critical Values:')\n",
    "for key, value in result[4].items():\n",
    "\tprint('\\t%s: %.3f' % (key, value))"
   ]
  },
  {
   "cell_type": "code",
   "execution_count": null,
   "metadata": {},
   "outputs": [],
   "source": [
    "res.columns"
   ]
  },
  {
   "cell_type": "code",
   "execution_count": null,
   "metadata": {},
   "outputs": [],
   "source": [
    "avg_mood = res[['Date', 'activity', 'appCat.builtin', 'appCat.communication',\n",
    "       'appCat.entertainment', 'appCat.finance', 'appCat.game',\n",
    "       'appCat.office', 'appCat.other', 'appCat.social', 'appCat.travel',\n",
    "       'appCat.unknown', 'appCat.utilities', 'appCat.weather', 'call',\n",
    "       'circumplex.arousal', 'circumplex.valence', 'screen', 'sms']].groupby(['Date'])['activity', 'appCat.builtin', 'appCat.communication',\n",
    "       'appCat.entertainment', 'appCat.finance', 'appCat.game',\n",
    "       'appCat.office', 'appCat.other', 'appCat.social', 'appCat.travel',\n",
    "       'appCat.unknown', 'appCat.utilities', 'appCat.weather', 'call',\n",
    "       'circumplex.arousal', 'circumplex.valence', 'screen', 'sms'].agg('mean').reset_index()"
   ]
  },
  {
   "cell_type": "code",
   "execution_count": null,
   "metadata": {},
   "outputs": [],
   "source": [
    "from autoviz.AutoViz_Class import AutoViz_Class\n",
    "\n",
    "AV = AutoViz_Class()\n",
    "AV.AutoViz(\"\",dfte= avg_mood)"
   ]
  },
  {
   "cell_type": "code",
   "execution_count": null,
   "metadata": {},
   "outputs": [],
   "source": [
    "\n",
    "AV = AutoViz_Class()\n",
    "AV.AutoViz(\"\",dfte= res[res['id']== 'AS14.26'],depVar='mood')"
   ]
  },
  {
   "cell_type": "markdown",
   "metadata": {},
   "source": [
    "# TESTS FOR TIME SERIES CORRELATIONS/SIMILARITIES FOR MOODS AMONG ALL PARTICIPANTS\n",
    "\n",
    "*   The ouput will help decide if a single model will be suitable for the time series\n",
    "\n"
   ]
  },
  {
   "cell_type": "code",
   "execution_count": null,
   "metadata": {},
   "outputs": [],
   "source": [
    "#Conduct ANOVA tests to check for similarities among the means for the different moods\n",
    "\n",
    "res_corr = res[['Date','id','mood']]\n",
    "\n",
    "res_corr  =res_corr.pivot( index='Date', columns='id', values='mood').reset_index()\n",
    "\n",
    "res_corr = res_corr.drop('Date', axis=1)\n",
    "\n",
    "\n",
    "res_corr[['AS14.01', 'AS14.02', 'AS14.03', 'AS14.05', 'AS14.06', 'AS14.07',\n",
    "       'AS14.08', 'AS14.09', 'AS14.12', 'AS14.13', 'AS14.14', 'AS14.15',\n",
    "       'AS14.16', 'AS14.17', 'AS14.19', 'AS14.20', 'AS14.23', 'AS14.24',\n",
    "       'AS14.25', 'AS14.26', 'AS14.27', 'AS14.28', 'AS14.29', 'AS14.30',\n",
    "       'AS14.31', 'AS14.32', 'AS14.33']]= knn_imputer.fit_transform(res_corr[['AS14.01', 'AS14.02', 'AS14.03', 'AS14.05', 'AS14.06', 'AS14.07',\n",
    "                                                                            'AS14.08', 'AS14.09', 'AS14.12', 'AS14.13', 'AS14.14', 'AS14.15',\n",
    "                                                                            'AS14.16', 'AS14.17', 'AS14.19', 'AS14.20', 'AS14.23', 'AS14.24',\n",
    "                                                                            'AS14.25', 'AS14.26', 'AS14.27', 'AS14.28', 'AS14.29', 'AS14.30',\n",
    "                                                                            'AS14.31', 'AS14.32', 'AS14.33']] )\n",
    "\n",
    "\n",
    "import scipy.stats as stats\n",
    "# stats f_oneway functions takes the groups as input and returns ANOVA F and p value\n",
    "fvalue, pvalue = stats.f_oneway(res_corr['AS14.01'],res_corr['AS14.02'],res_corr['AS14.03'], res_corr['AS14.05'],res_corr['AS14.06'],res_corr['AS14.07'],res_corr['AS14.08'],res_corr['AS14.09'],res_corr['AS14.12'],res_corr['AS14.12'],\n",
    "                                res_corr['AS14.13'],res_corr['AS14.14'],res_corr['AS14.15'],res_corr['AS14.16'],res_corr['AS14.17'],res_corr['AS14.19'],res_corr['AS14.20'],res_corr['AS14.23'],res_corr['AS14.24'],res_corr['AS14.25'],\n",
    "                                res_corr['AS14.26'],res_corr['AS14.27'],res_corr['AS14.28'],res_corr['AS14.29'],res_corr['AS14.30'],res_corr['AS14.31'],res_corr['AS14.32'],res_corr['AS14.33'])\n",
    "print(fvalue, pvalue)"
   ]
  },
  {
   "cell_type": "code",
   "execution_count": null,
   "metadata": {},
   "outputs": [],
   "source": [
    "res_corr = res[['Date','id','mood']]\n",
    "\n",
    "res_corr  =res_corr.pivot( index='Date', columns='id', values='mood').reset_index()\n",
    "\n",
    "\n",
    "res_corr[['AS14.01', 'AS14.02', 'AS14.03', 'AS14.05', 'AS14.06', 'AS14.07',\n",
    "       'AS14.08', 'AS14.09', 'AS14.12', 'AS14.13', 'AS14.14', 'AS14.15',\n",
    "       'AS14.16', 'AS14.17', 'AS14.19', 'AS14.20', 'AS14.23', 'AS14.24',\n",
    "       'AS14.25', 'AS14.26', 'AS14.27', 'AS14.28', 'AS14.29', 'AS14.30',\n",
    "       'AS14.31', 'AS14.32', 'AS14.33']]= knn_imputer.fit_transform(res_corr[['AS14.01', 'AS14.02', 'AS14.03', 'AS14.05', 'AS14.06', 'AS14.07',\n",
    "                                                                            'AS14.08', 'AS14.09', 'AS14.12', 'AS14.13', 'AS14.14', 'AS14.15',\n",
    "                                                                            'AS14.16', 'AS14.17', 'AS14.19', 'AS14.20', 'AS14.23', 'AS14.24',\n",
    "                                                                            'AS14.25', 'AS14.26', 'AS14.27', 'AS14.28', 'AS14.29', 'AS14.30',\n",
    "                                                                            'AS14.31', 'AS14.32', 'AS14.33']] )\n",
    "res_corr.head(1)"
   ]
  },
  {
   "cell_type": "code",
   "execution_count": null,
   "metadata": {},
   "outputs": [],
   "source": [
    "avg_mood = res[['Date','mood']].groupby(['Date'])['mood'].agg('mean').reset_index()\n",
    "fig = px.line(avg_mood , x=\"Date\", y=['mood'], title='Daily Average Mood Movement Across All Users', template = 'presentation')\n",
    "fig.show()"
   ]
  },
  {
   "cell_type": "code",
   "execution_count": null,
   "metadata": {},
   "outputs": [],
   "source": [
    "#Pearson Correlation\n",
    "import scipy.stats as stats\n",
    "overall_pearson_r = res_corr.corr()\n",
    "overall_pearson_r = overall_pearson_r.values[np.triu_indices_from(overall_pearson_r.values,1)].mean()\n",
    "print(f\"Pandas computed Pearson r: {overall_pearson_r}\")\n",
    "\n"
   ]
  },
  {
   "cell_type": "code",
   "execution_count": null,
   "metadata": {},
   "outputs": [],
   "source": [
    "# Compute rolling window synchrony\n",
    "f,ax=plt.subplots(figsize=(50,30))\n",
    "res_corr.rolling(window=30,center=True).median().plot(ax=ax)\n",
    "ax.set(xlabel='Time',ylabel='Pearson r')\n",
    "ax.set(title=f\"Overall Pearson r = {np.round(overall_pearson_r,2)}\");"
   ]
  }
 ],
 "metadata": {
  "kernelspec": {
   "display_name": "Python 3 (ipykernel)",
   "language": "python",
   "name": "python3"
  },
  "language_info": {
   "codemirror_mode": {
    "name": "ipython",
    "version": 3
   },
   "file_extension": ".py",
   "mimetype": "text/x-python",
   "name": "python",
   "nbconvert_exporter": "python",
   "pygments_lexer": "ipython3",
   "version": "3.9.13"
  }
 },
 "nbformat": 4,
 "nbformat_minor": 2
}
