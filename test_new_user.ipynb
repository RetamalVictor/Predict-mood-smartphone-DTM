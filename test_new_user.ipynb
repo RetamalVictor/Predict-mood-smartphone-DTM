{
 "cells": [
  {
   "cell_type": "code",
   "execution_count": null,
   "metadata": {},
   "outputs": [],
   "source": [
    "import numpy as np\n",
    "import pandas as pd\n",
    "import matplotlib.pyplot as plt\n",
    "from tqdm import tqdm\n",
    "import pickle\n",
    "from sklearn.model_selection import train_test_split\n",
    "from sklearn.metrics import mean_absolute_error\n",
    "from sklearn.metrics import mean_squared_error\n",
    "from pycaret.regression import setup, compare_models, pull, finalize_model, save_model, load_model, predict_model\n",
    "from sklearn.cluster import KMeans"
   ]
  },
  {
   "cell_type": "code",
   "execution_count": null,
   "metadata": {},
   "outputs": [],
   "source": [
    "\n",
    "#To test on a new user, the specific model to use must be identified\n",
    "# To do this, the closest existing user to the new user is identifed via cluster.\n",
    "# the model for the closest existing user is used to predict mood for the new user\n",
    "res_imp_feat = pd.read_csv('final_dataset.csv', engine= 'python')\n",
    "new_user = res_imp_feat[res_imp_feat['id']== 'AS14.33']\n",
    "res_imp_feat = res_imp_feat[res_imp_feat['id'] != 'AS14.33']\n",
    "\n",
    "res_clus = res_imp_feat.drop(['Date','mood'], axis =1)\n",
    "res_clus = res_clus.groupby(\"id\").mean().reset_index()\n",
    "X = np.array(res_clus.drop(['id'], 1).astype(float))\n"
   ]
  },
  {
   "cell_type": "code",
   "execution_count": null,
   "metadata": {},
   "outputs": [],
   "source": [
    "#Get the optimum number of clusters using elbow method\n",
    "wcss = []\n",
    "for i in range(1, 11):\n",
    "    kmeans = KMeans(n_clusters=i, init='k-means++', max_iter=300, n_init=10, random_state=0)\n",
    "    kmeans.fit(X)\n",
    "    wcss.append(kmeans.inertia_)\n",
    "plt.plot(range(1, 11), wcss)\n",
    "plt.title('Elbow Method')\n",
    "plt.xlabel('Number of clusters')\n",
    "plt.ylabel('WCSS')\n",
    "plt.show()"
   ]
  },
  {
   "cell_type": "code",
   "execution_count": null,
   "metadata": {},
   "outputs": [],
   "source": [
    "#build cluster model and show plot\n",
    "kmeans = KMeans(n_clusters=4, init='k-means++', max_iter=300, n_init=10, random_state=0)\n",
    "pred_y = kmeans.fit_predict(X)\n",
    "plt.scatter(X[:,0], X[:,1])\n",
    "plt.scatter(kmeans.cluster_centers_[:, 0], kmeans.cluster_centers_[:, 1], s=300, c='red')\n",
    "plt.show()"
   ]
  },
  {
   "cell_type": "code",
   "execution_count": null,
   "metadata": {},
   "outputs": [],
   "source": [
    "#append clsuter ids to the dataset of existing users\n",
    "res_clus['clusterID'] = kmeans.labels_"
   ]
  },
  {
   "cell_type": "code",
   "execution_count": null,
   "metadata": {},
   "outputs": [],
   "source": [
    "#An existing  user with cluster id = 0\n",
    "res_clus[res_clus['clusterID']== 0].head(1)"
   ]
  },
  {
   "cell_type": "code",
   "execution_count": null,
   "metadata": {},
   "outputs": [],
   "source": [
    "#Testing the model on a new user data\n",
    "from pycaret.regression import load_model, predict_model\n",
    "all_score_df = []\n",
    "val_new_user_sim = val[val['id']=='AS14.06']\n",
    "for i in tqdm(val_new_user_sim['id'].unique()):\n",
    "    l = load_model('trained_models' + str(i), verbose=False)\n",
    "    p = predict_model(l, data=new_user)\n",
    "    p['id'] = i\n",
    "    all_score_df.append(p)\n",
    "concat_val = pd.concat(all_score_df, axis=0)\n",
    "concat_val['id']= 'AS14.33'\n",
    "concat_val['mood'] = concat_val['mood'].astype(int)\n",
    "concat_val['Label'] = concat_val['Label'].astype(int)\n",
    "concat_val = concat_val.rename(columns={\"Label\": \"Predicted Mood\", 'mood': 'Actual Mood'})"
   ]
  },
  {
   "cell_type": "code",
   "execution_count": null,
   "metadata": {},
   "outputs": [],
   "source": [
    "#print mae \n",
    "print(mean_absolute_error( concat_val[ 'Actual Mood'],concat_val[ \"Predicted Mood\"]))\n",
    "print(mean_squared_error ( concat_val[ 'Actual Mood'],concat_val[\"Predicted Mood\"]))\n",
    "print(mean_squared_error ( concat_val[ 'Actual Mood'],concat_val[\"Predicted Mood\"],squared=False))"
   ]
  },
  {
   "cell_type": "code",
   "execution_count": null,
   "metadata": {},
   "outputs": [],
   "source": [
    "concat_val.head(1)"
   ]
  },
  {
   "cell_type": "code",
   "execution_count": null,
   "metadata": {},
   "outputs": [],
   "source": [
    "import plotly.express as px\n",
    "for i in concat_val['id'].unique():\n",
    "    sub_df = concat_val[concat_val['id'] == i]\n",
    "    fig = px.line(sub_df, x=\"Date\", y=['Actual Mood', 'Predicted Mood'], title='Actual Average Mood Versus Predicted Average Mood-Pycaret Model', template = 'presentation')\n",
    "    fig.show()"
   ]
  },
  {
   "cell_type": "code",
   "execution_count": null,
   "metadata": {},
   "outputs": [],
   "source": [
    "# Plot Predictions Versus Actual Moods \n",
    "import plotly.express as px\n",
    "for i in final_val_df['id'].unique():\n",
    "    sub_df = final_val_df[final_val_df['id'] == i]\n",
    "    fig = px.line(sub_df, x=\"Date\", y=['mood', 'Label'], title=i, template = 'plotly_dark')\n",
    "    fig.show()"
   ]
  },
  {
   "cell_type": "code",
   "execution_count": null,
   "metadata": {},
   "outputs": [],
   "source": []
  }
 ],
 "metadata": {
  "language_info": {
   "name": "python"
  },
  "orig_nbformat": 4
 },
 "nbformat": 4,
 "nbformat_minor": 2
}
